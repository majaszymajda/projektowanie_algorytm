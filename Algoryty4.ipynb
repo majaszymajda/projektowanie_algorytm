{
  "nbformat": 4,
  "nbformat_minor": 0,
  "metadata": {
    "colab": {
      "name": "Algoryty4.ipynb",
      "provenance": [],
      "collapsed_sections": [],
      "include_colab_link": true
    },
    "kernelspec": {
      "name": "python3",
      "display_name": "Python 3"
    },
    "language_info": {
      "name": "python"
    }
  },
  "cells": [
    {
      "cell_type": "markdown",
      "metadata": {
        "id": "view-in-github",
        "colab_type": "text"
      },
      "source": [
        "<a href=\"https://colab.research.google.com/github/majaszymajda/projektowanie_algorytm/blob/main/Algoryty4.ipynb\" target=\"_parent\"><img src=\"https://colab.research.google.com/assets/colab-badge.svg\" alt=\"Open In Colab\"/></a>"
      ]
    },
    {
      "cell_type": "markdown",
      "metadata": {
        "id": "mcUus_QyJlYb"
      },
      "source": [
        "# Zadanie  0 – przygotowanie struktury danych "
      ]
    },
    {
      "cell_type": "code",
      "metadata": {
        "id": "m8MjG4DwJBa5"
      },
      "source": [
        "from typing import NamedTuple\n",
        "import random\n",
        "import string\n",
        "import numpy as np\n",
        "import secrets\n",
        "import json\n",
        "import pprint\n",
        "\n",
        "vectorOfRobots = []\n",
        "typesArray = [\"AUV\", \"AFV\", \"AGV\"]\n",
        "\n",
        "class RoboStruct(NamedTuple):\n",
        "    id: str\n",
        "    typee: str\n",
        "    mass: int\n",
        "    range: int\n",
        "    resolution: int\n",
        "\n",
        "def GenerateRobot(N):\n",
        "  idin = ''.join(random.choices(string.ascii_letters + string.digits, k=N))\n",
        "  typeein = secrets.choice(typesArray)\n",
        "  massin = random.randint(50,2000)\n",
        "  rangein = random.randint(1,1000)\n",
        "  resolin = random.randint(1,30)\n",
        "  struct = RoboStruct(idin, typeein, massin, rangein, resolin)\n",
        "  vectorOfRobots.append(struct)\n",
        "\n",
        "def GenerateMultiRobots(robotsNumber, IDLenght):\n",
        "  for robots in range(robotsNumber):\n",
        "    GenerateRobot(IDLenght)\n",
        "\n",
        "def showRobots():\n",
        "  for robots in range(len(vectorOfRobots)):\n",
        "    print(vectorOfRobots[robots])\n",
        "    print(\"/n\")\n",
        "\n",
        "def JSONConverter(array):\n",
        "  data = {\n",
        "        \"id\": \"gt\",\n",
        "        \"typee\": \"AFV\",\n",
        "        \"mass\": 0,\n",
        "        \"range\": 0,\n",
        "        \"resolution\": 0\n",
        "  }\n",
        "  allDataJson = { }\n",
        "  iter = 0\n",
        "\n",
        "  for elem in range(len(array)):\n",
        "        data[\"id\"] = array[elem][0]\n",
        "        data[\"typee\"] = array[elem][1]\n",
        "        data[\"mass\"] = array[elem][2]\n",
        "        data[\"range\"] = array[elem][3]\n",
        "        data[\"resolution\"] = array[elem][4]\n",
        "        allDataJson[str(iter)] = data\n",
        "        iter += 1\n",
        "  return allDataJson\n",
        "\n",
        "def saveToJsonFile(data):\n",
        "  with open(\"JSONData.json\", \"w\") as write_file:\n",
        "    json.dump(data, write_file, indent = 5)\n",
        "\n",
        "def readFromJsonFile():\n",
        "  with open('JSONData.json') as f:\n",
        "    data = json.load(f)\n",
        "  pprint.pprint(data)\n"
      ],
      "execution_count": null,
      "outputs": []
    },
    {
      "cell_type": "markdown",
      "metadata": {
        "id": "5WfmuKBo2m_C"
      },
      "source": [
        "# Zadanie 1 - wyszukiwanie liniowe"
      ]
    },
    {
      "cell_type": "markdown",
      "metadata": {
        "id": "9gWwBpMJL9rm"
      },
      "source": [
        ""
      ]
    },
    {
      "cell_type": "code",
      "metadata": {
        "colab": {
          "base_uri": "https://localhost:8080/"
        },
        "id": "oc0KWLYJL_2p",
        "outputId": "e8fa9a25-9713-43d3-bdb2-be9419d5b468"
      },
      "source": [
        "\n",
        "GenerateMultiRobots(10,4)\n",
        "showRobots()\n",
        "\n",
        "paramsDevide = {\n",
        "        'id': 0,\n",
        "        'typee': 1,\n",
        "        'mass': 2,\n",
        "        'range': 3,\n",
        "        'resolution': 4\n",
        "}\n",
        "\n",
        "def FindRobot(parametr, value):\n",
        "  param = paramsDevide.get(parametr)\n",
        "  for robot in vectorOfRobots:\n",
        "    if robot[param] == value:\n",
        "      return robot\n",
        "  return None\n",
        "\n",
        "def FindRobotUsingArray(arrayParametr):\n",
        "  track = True\n",
        "  for robot in vectorOfRobots:\n",
        "    for elem in range(len(arrayParametr)):\n",
        "      if arrayParametr[elem] != None and arrayParametr[elem] != robot[elem]:\n",
        "        track = False\n",
        "    if track == True:\n",
        "      return robot\n",
        "    track = True\n",
        "  return None\n",
        "\n",
        "# a = RoboStruct(None, \"AUV\", None, None, None)\n",
        "# FindRobotUsingArray(a)\n",
        "\n",
        "def ArrayCheck(x):\n",
        "  if type(x) is list:\n",
        "      return True\n",
        "  else:\n",
        "      return False\n",
        "\n",
        "def FindRobotUsingArrayCollection(arrayParametr):\n",
        "  track = True\n",
        "  innerTrack = False\n",
        "  for robot in range(len(vectorOfRobots)):\n",
        "    for elem in range(len(arrayParametr)):\n",
        "      if ArrayCheck(arrayParametr[elem]):\n",
        "        for products in range(len(arrayParametr[elem])):\n",
        "          if arrayParametr[elem][products] == vectorOfRobots[robot][elem]:\n",
        "            innerTrack = True\n",
        "        if innerTrack == False:\n",
        "          robot += 1\n",
        "        else:\n",
        "          elem += 1\n",
        "      if arrayParametr[elem] != None and arrayParametr[elem] != vectorOfRobots[robot][elem]:\n",
        "        track = False\n",
        "      innerTrack = False\n",
        "    if track == True:\n",
        "      return vectorOfRobots[robot]\n",
        "    track = True\n",
        "  return None\n",
        "\n"
      ],
      "execution_count": null,
      "outputs": [
        {
          "output_type": "stream",
          "text": [
            "RoboStruct(id='Hiz2', typee='AFV', mass=1759, range=289, resolution=2)\n",
            "/n\n",
            "RoboStruct(id='tzjV', typee='AGV', mass=1379, range=782, resolution=5)\n",
            "/n\n",
            "RoboStruct(id='uEdb', typee='AGV', mass=1007, range=51, resolution=24)\n",
            "/n\n",
            "RoboStruct(id='xPwS', typee='AUV', mass=158, range=711, resolution=17)\n",
            "/n\n",
            "RoboStruct(id='mdgn', typee='AUV', mass=1881, range=54, resolution=3)\n",
            "/n\n",
            "RoboStruct(id='gRpE', typee='AUV', mass=485, range=896, resolution=9)\n",
            "/n\n",
            "RoboStruct(id='4u2H', typee='AFV', mass=325, range=882, resolution=21)\n",
            "/n\n",
            "RoboStruct(id='sScR', typee='AUV', mass=781, range=96, resolution=7)\n",
            "/n\n",
            "RoboStruct(id='6IPJ', typee='AGV', mass=864, range=363, resolution=24)\n",
            "/n\n",
            "RoboStruct(id='SoxJ', typee='AUV', mass=1506, range=878, resolution=28)\n",
            "/n\n"
          ],
          "name": "stdout"
        }
      ]
    },
    {
      "cell_type": "markdown",
      "metadata": {
        "id": "5cL5j4a72pvP"
      },
      "source": [
        "# Zadanie 2 – wyszukiwanie binarne\n"
      ]
    },
    {
      "cell_type": "code",
      "metadata": {
        "id": "WhZaXjGU6ePk",
        "colab": {
          "base_uri": "https://localhost:8080/"
        },
        "outputId": "b0c26560-d5d5-4ffc-bb37-edfc2517fcd7"
      },
      "source": [
        "def sortByParam(param):\n",
        "   vectorOfRobots.sort(key=lambda x: x[param])\n",
        "   print('Posortowane roboty')\n",
        "   return showRobots()\n",
        "\n",
        "print(sortByParam(1))\n",
        "\n",
        "def binSearch(array, param, target):\n",
        "    left = 0\n",
        "    right = len(array)\n",
        "\n",
        "    while left < right:\n",
        "        index = (left + right) // 2\n",
        "        if array[index][param] == target:\n",
        "            return index\n",
        "        else:\n",
        "            if array[index][param] < target:\n",
        "                left = index + 1\n",
        "            else:\n",
        "                right = index\n",
        "    return print('Do not exists')\n",
        "\n",
        "binSearch(vectorOfRobots, 1, 'AUV')"
      ],
      "execution_count": null,
      "outputs": [
        {
          "output_type": "stream",
          "text": [
            "Posortowane roboty\n",
            "RoboStruct(id='Hiz2', typee='AFV', mass=1759, range=289, resolution=2)\n",
            "/n\n",
            "RoboStruct(id='4u2H', typee='AFV', mass=325, range=882, resolution=21)\n",
            "/n\n",
            "RoboStruct(id='tzjV', typee='AGV', mass=1379, range=782, resolution=5)\n",
            "/n\n",
            "RoboStruct(id='uEdb', typee='AGV', mass=1007, range=51, resolution=24)\n",
            "/n\n",
            "RoboStruct(id='6IPJ', typee='AGV', mass=864, range=363, resolution=24)\n",
            "/n\n",
            "RoboStruct(id='xPwS', typee='AUV', mass=158, range=711, resolution=17)\n",
            "/n\n",
            "RoboStruct(id='mdgn', typee='AUV', mass=1881, range=54, resolution=3)\n",
            "/n\n",
            "RoboStruct(id='gRpE', typee='AUV', mass=485, range=896, resolution=9)\n",
            "/n\n",
            "RoboStruct(id='sScR', typee='AUV', mass=781, range=96, resolution=7)\n",
            "/n\n",
            "RoboStruct(id='SoxJ', typee='AUV', mass=1506, range=878, resolution=28)\n",
            "/n\n",
            "None\n"
          ],
          "name": "stdout"
        },
        {
          "output_type": "execute_result",
          "data": {
            "text/plain": [
              "5"
            ]
          },
          "metadata": {
            "tags": []
          },
          "execution_count": 11
        }
      ]
    },
    {
      "cell_type": "markdown",
      "metadata": {
        "id": "UkfEXE8C2sc9"
      },
      "source": [
        "# Zadanie 3  – wyszukiwanie z wykorzystaniem funkcji haszującej\n",
        "\n"
      ]
    },
    {
      "cell_type": "code",
      "metadata": {
        "colab": {
          "base_uri": "https://localhost:8080/",
          "height": 1000
        },
        "id": "YAHF8FouRmfw",
        "outputId": "4530695c-30c9-43ac-8338-3b79199b9acb"
      },
      "source": [
        "def hashSearch(vector, record, parameter):\n",
        "    tab = vector[parameter][hash(record)]\n",
        "    return record in tab\n",
        "\n",
        "\n",
        "def hashing(record):\n",
        "  return record % 10\n",
        "\n",
        "def string_hashing(record):\n",
        "  h = 0\n",
        "  for l in record:\n",
        "    h = 2 * h + 1 - (ord(l)& 1)\n",
        "  return h % 10\n",
        "\n",
        "\n",
        "\n",
        "tab_hasz = []\n",
        "tab_hasz_rob = []\n",
        "\n",
        "for i in range(len(vectorOfRobots)):\n",
        "  # print(vectorOfRobots[i])\n",
        "  for j in range(len(vectorOfRobots[i])):\n",
        "    if j == 0 or j == 1:\n",
        "      # funkcja do haszowania stringow\n",
        "      # print(string_hashing(vectorOfRobots[i][j]))\n",
        "      tab_hasz_rob.append(string_hashing(vectorOfRobots[i][j]))\n",
        "      # print(vectorOfRobots[i][j])\n",
        "    else:\n",
        "    # print(vectorOfRobots[i][j])\n",
        "      tab_hasz_rob.append(hashing(vectorOfRobots[i][j]))\n",
        "  tab_hasz.append(tab_hasz_rob)\n",
        "  tab_hasz_rob = []\n",
        "  print(tab_hasz[i])\n",
        "   \n",
        "\n",
        "\n",
        "\n",
        "'''\n",
        "def hash_function( val, n ):\n",
        "    \"\"\"\n",
        "       Compute a hash of the val string that is in [0 ... n).\n",
        "    \"\"\"\n",
        "    #hashcode = ( len( val ) % n )\n",
        "    hashcode = 0\n",
        "    for i in range( len( val ) ):\n",
        "      for j in range(len(val[i])):\n",
        "        hashcode = (71 * hashcode + ord( val[i][j] ) ) % n\n",
        "    return hashcode\n",
        "\n",
        "\n",
        "def hashSearch(vector, record, parameter):\n",
        "    tab = vector[parameter][hash(record)]\n",
        "    return record in tab\n",
        "\n",
        "\n",
        "robots_database = robots()\n",
        "vector = robots_database.generate_robots(1000)\n",
        "N = 10\n",
        "\n",
        "hash_table = []\n",
        "\n",
        "for i in range(len(vector)):\n",
        "  #for j in range(len(vector[i])):\n",
        "  hash_table.append(hash_function(vector[i], N))\n",
        "\n",
        "\n",
        "\n",
        "print(hash_table)\n",
        "hashing(temp[3])\n",
        "print(temp[3])\n",
        "print(vector)\n",
        "'''"
      ],
      "execution_count": null,
      "outputs": [
        {
          "output_type": "stream",
          "text": [
            "[1, 3, 9, 9, 2]\n",
            "[1, 3, 5, 2, 1]\n",
            "[5, 1, 9, 2, 5]\n",
            "[3, 1, 7, 1, 4]\n",
            "[1, 1, 4, 3, 4]\n",
            "[2, 1, 8, 1, 7]\n",
            "[5, 1, 1, 4, 3]\n",
            "[6, 1, 5, 6, 9]\n",
            "[1, 1, 1, 6, 7]\n",
            "[3, 1, 6, 8, 8]\n",
            "[3, 1, 6, 0, 6]\n",
            "[9, 3, 7, 8, 6]\n",
            "[4, 1, 6, 9, 8]\n",
            "[4, 1, 5, 9, 1]\n",
            "[4, 1, 2, 8, 8]\n",
            "[5, 1, 3, 2, 0]\n",
            "[5, 1, 6, 2, 8]\n",
            "[2, 1, 5, 2, 2]\n",
            "[4, 1, 1, 6, 1]\n",
            "[7, 1, 6, 6, 3]\n",
            "[3, 3, 6, 0, 6]\n",
            "[9, 3, 7, 8, 6]\n",
            "[4, 3, 6, 9, 8]\n",
            "[4, 3, 5, 9, 1]\n",
            "[4, 1, 2, 8, 8]\n",
            "[5, 1, 3, 2, 0]\n",
            "[5, 1, 6, 2, 8]\n",
            "[2, 3, 5, 2, 2]\n",
            "[4, 1, 1, 6, 1]\n",
            "[7, 1, 6, 6, 3]\n",
            "[3, 1, 6, 0, 6]\n",
            "[9, 1, 7, 8, 6]\n",
            "[4, 1, 6, 9, 8]\n",
            "[4, 3, 5, 9, 1]\n",
            "[4, 3, 2, 8, 8]\n",
            "[5, 1, 3, 2, 0]\n",
            "[5, 1, 6, 2, 8]\n",
            "[2, 3, 5, 2, 2]\n",
            "[4, 3, 1, 6, 1]\n",
            "[7, 3, 6, 6, 3]\n",
            "[4, 1, 6, 6, 5]\n",
            "[0, 1, 6, 2, 8]\n",
            "[1, 1, 6, 7, 0]\n",
            "[3, 1, 5, 9, 8]\n",
            "[0, 1, 7, 2, 7]\n",
            "[6, 3, 0, 3, 1]\n",
            "[0, 3, 7, 5, 7]\n",
            "[4, 1, 0, 4, 9]\n",
            "[1, 3, 3, 7, 5]\n",
            "[3, 3, 5, 6, 9]\n",
            "[1, 1, 9, 9, 2]\n",
            "[5, 3, 9, 2, 5]\n",
            "[3, 3, 7, 1, 4]\n",
            "[2, 1, 8, 1, 7]\n",
            "[5, 1, 1, 4, 3]\n",
            "[6, 1, 5, 6, 9]\n",
            "[1, 1, 5, 2, 1]\n",
            "[1, 1, 1, 6, 7]\n",
            "[1, 1, 4, 3, 4]\n",
            "[3, 1, 6, 8, 8]\n"
          ],
          "name": "stdout"
        },
        {
          "output_type": "execute_result",
          "data": {
            "application/vnd.google.colaboratory.intrinsic+json": {
              "type": "string"
            },
            "text/plain": [
              "'\\ndef hash_function( val, n ):\\n    \"\"\"\\n       Compute a hash of the val string that is in [0 ... n).\\n    \"\"\"\\n    #hashcode = ( len( val ) % n )\\n    hashcode = 0\\n    for i in range( len( val ) ):\\n      for j in range(len(val[i])):\\n        hashcode = (71 * hashcode + ord( val[i][j] ) ) % n\\n    return hashcode\\n\\n\\ndef hashSearch(vector, record, parameter):\\n    tab = vector[parameter][hash(record)]\\n    return record in tab\\n\\n\\nrobots_database = robots()\\nvector = robots_database.generate_robots(1000)\\nN = 10\\n\\nhash_table = []\\n\\nfor i in range(len(vector)):\\n  #for j in range(len(vector[i])):\\n  hash_table.append(hash_function(vector[i], N))\\n\\n\\n\\nprint(hash_table)\\nhashing(temp[3])\\nprint(temp[3])\\nprint(vector)\\n'"
            ]
          },
          "metadata": {
            "tags": []
          },
          "execution_count": 59
        }
      ]
    },
    {
      "cell_type": "code",
      "metadata": {
        "id": "uC5fxs159l_m"
      },
      "source": [
        "def hf(s):\n",
        "  for i in range(len(s)):\n",
        "    h = 2*h+1 - (s[i])\n",
        "  return(h%10)\n",
        "\n",
        "\n",
        "def s4(x):\n",
        "  s=\"\"\n",
        "  m = 8\n",
        "  while m:\n",
        "    s += (x&m)? 'B':'A'\n",
        "    m>>=1\n",
        "  return s \n",
        "\n",
        "\n",
        "def funkcja_haszujaca(s, T, n):\n",
        "  for i in range(len(T))\n",
        "    h = hf(s)\n",
        "    j = h\n",
        "    while(True):\n",
        "      if T[i] == \"\":\n",
        "        T[i]=s\n",
        "      i = (i+1)%n\n",
        "      if i == \"h\":\n",
        "        break\n",
        "\n",
        "\n",
        "def wyszukiwanie(s, T, n)\n",
        "  h = hf(s,n)  "
      ],
      "execution_count": null,
      "outputs": []
    },
    {
      "cell_type": "markdown",
      "metadata": {
        "id": "eQkrW9r62uN4"
      },
      "source": [
        "# Zadanie 4\n"
      ]
    },
    {
      "cell_type": "markdown",
      "metadata": {
        "id": "lk5pUoQo2wXR"
      },
      "source": [
        "# Zadanie 5"
      ]
    }
  ]
}